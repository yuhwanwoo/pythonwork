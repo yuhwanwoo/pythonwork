{
 "cells": [
  {
   "cell_type": "code",
   "execution_count": 1,
   "metadata": {},
   "outputs": [
    {
     "name": "stdout",
     "output_type": "stream",
     "text": [
      " * Serving Flask app \"__main__\" (lazy loading)\n",
      " * Environment: production\n",
      "   WARNING: This is a development server. Do not use it in a production deployment.\n",
      "   Use a production WSGI server instead.\n",
      " * Debug mode: on\n"
     ]
    },
    {
     "name": "stderr",
     "output_type": "stream",
     "text": [
      " * Restarting with windowsapi reloader\n"
     ]
    },
    {
     "ename": "SystemExit",
     "evalue": "1",
     "output_type": "error",
     "traceback": [
      "An exception has occurred, use %tb to see the full traceback.\n",
      "\u001b[1;31mSystemExit\u001b[0m\u001b[1;31m:\u001b[0m 1\n"
     ]
    },
    {
     "name": "stderr",
     "output_type": "stream",
     "text": [
      "C:\\Users\\yuhwa\\anaconda3\\lib\\site-packages\\IPython\\core\\interactiveshell.py:3339: UserWarning: To exit: use 'exit', 'quit', or Ctrl-D.\n",
      "  warn(\"To exit: use 'exit', 'quit', or Ctrl-D.\", stacklevel=1)\n"
     ]
    }
   ],
   "source": [
    "'''\n",
    "Created on 2018. 3. 25.\n",
    "\n",
    "@author: kim\n",
    "'''\n",
    "from flask import Flask\n",
    "\n",
    "import urllib.request\n",
    "from urllib.parse import urlparse\n",
    "app = Flask(__name__)\n",
    "\n",
    "@app.route(\"/\")\n",
    "def hell():\n",
    "    return \"hello\"\n",
    "\n",
    "@app.route(\"/test\")\n",
    "def requestTest():\n",
    "    url = \"http://www.encar.com/\"\n",
    "    \n",
    "    mem = urllib.request.urlopen(url)\n",
    "    '''\n",
    "    print(type({}))\n",
    "    print(type([]))\n",
    "    print(type(()))'''\n",
    "    #\n",
    "    print(type(mem))\n",
    "    print(\"geturl :\",mem.geturl())\n",
    "    print(\"status :\",mem.status)\n",
    "    print(\"headers :\",mem.getheaders())#리스트를 이용해서 처리하며 이게 보기 힘들기 때문에\n",
    "    print(\"info :\",mem.info(),\"\\n\")#이와 같은 방법으로 접근할 수 있다.\n",
    "    \n",
    "    print(\"getcode :\",mem.getcode())\n",
    "    print(\"read :\",mem.read(10).decode('utf-8'))#숫자를 넣으면 해당 숫자만큼 데이터를 읽어온다.\n",
    "                                                #문자열이 깨지거나 문자열을 맞춰야 할때\n",
    "    return \"read :\"\n",
    "\n",
    "if __name__ == '__main__':\n",
    "    app.run(debug=True,host=\"127.0.0.1\",port=5000)"
   ]
  },
  {
   "cell_type": "code",
   "execution_count": null,
   "metadata": {},
   "outputs": [],
   "source": []
  }
 ],
 "metadata": {
  "kernelspec": {
   "display_name": "Python 3",
   "language": "python",
   "name": "python3"
  },
  "language_info": {
   "codemirror_mode": {
    "name": "ipython",
    "version": 3
   },
   "file_extension": ".py",
   "mimetype": "text/x-python",
   "name": "python",
   "nbconvert_exporter": "python",
   "pygments_lexer": "ipython3",
   "version": "3.7.7"
  }
 },
 "nbformat": 4,
 "nbformat_minor": 4
}
